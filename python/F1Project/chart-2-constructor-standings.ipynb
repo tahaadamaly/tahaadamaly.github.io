{
 "cells": [
  {
   "cell_type": "code",
   "execution_count": 1,
   "metadata": {},
   "outputs": [],
   "source": [
    "import pandas as pd\n",
    "import requests\n",
    "import formula1 as f1"
   ]
  },
  {
   "cell_type": "code",
   "execution_count": 2,
   "metadata": {},
   "outputs": [],
   "source": [
    "# Accessing the Ergast F1 API. This was especially complex and could only be done in python due to the multiple levels \n",
    "# of nesting (MRData, StandingsTable, StandingsLists etc) present in the API\n",
    "# Inspired by the pyErgast python module\n",
    "\n",
    "def constructor_standings(year):\n",
    "    url = 'http://ergast.com/api/f1/{}/constructorStandings.json?limit=1000000'.format(year)\n",
    "    r = requests.get(url)\n",
    "    constructorStandings = r.json()['MRData']['StandingsTable']['StandingsLists'][0]['ConstructorStandings']\n",
    "    for i in constructorStandings:\n",
    "        i['constructorID'] = i['Constructor']['constructorId']\n",
    "        i['name'] = i['Constructor']['name']\n",
    "        del i['Constructor']\n",
    "    return pd.DataFrame(constructorStandings)"
   ]
  },
  {
   "cell_type": "code",
   "execution_count": 3,
   "metadata": {},
   "outputs": [],
   "source": [
    "# For each year between 2012 and 2021 inclusive, obtain the constructor standings and create a master dataframe with all datapoints (only name, points and a unique constructor id)\n",
    "master_data = pd.DataFrame()\n",
    "\n",
    "for i in range(2012, 2022):\n",
    "    df = constructor_standings(i)\n",
    "    df = df[['name', 'points', 'constructorID']]\n",
    "    df['year'] = i\n",
    "    master_data = master_data.append(df)\n"
   ]
  },
  {
   "cell_type": "code",
   "execution_count": 4,
   "metadata": {},
   "outputs": [],
   "source": [
    "# List of constructors that we need\n",
    "constructor_list = ['mercedes', 'red_bull', 'ferrari', 'williams', 'mclaren', 'alpine', 'alphatauri', 'alfa', 'aston_martin']"
   ]
  },
  {
   "cell_type": "code",
   "execution_count": 5,
   "metadata": {},
   "outputs": [],
   "source": [
    "# Replacing the teams which had name/ownership changes to the current name to match up with R&D collection methodology\n",
    "\n",
    "master_data['constructorID'].replace(\"lotus_f1\", \"alpine\", inplace=True)\n",
    "master_data['constructorID'].replace(\"renault\", \"alpine\", inplace=True)\n",
    "\n",
    "master_data['constructorID'].replace(\"sauber\", \"alfa\", inplace=True)\n",
    "\n",
    "master_data['constructorID'].replace(\"toro_rosso\", \"alphatauri\", inplace=True)\n",
    "\n",
    "master_data['constructorID'].replace(\"force_india\", \"aston_martin\", inplace=True)\n",
    "master_data['constructorID'].replace(\"racing_point\", \"aston_martin\", inplace=True)"
   ]
  },
  {
   "cell_type": "code",
   "execution_count": 6,
   "metadata": {},
   "outputs": [],
   "source": [
    "master_data['name'].replace(\"Lotus F1\", \"Alpine F1 Team\", inplace=True)\n",
    "master_data['name'].replace(\"Renault\", \"Alpine F1 Team\", inplace=True)\n",
    "\n",
    "master_data['name'].replace(\"Sauber\", \"Alfa Romeo\", inplace=True)\n",
    "\n",
    "master_data['name'].replace(\"Toro Rosso\", \"AlphaTauri\", inplace=True)\n",
    "\n",
    "master_data['name'].replace(\"Force India\", \"Aston Martin\", inplace=True)\n",
    "master_data['name'].replace(\"Racing Point\", \"Aston Martin\", inplace=True)"
   ]
  },
  {
   "cell_type": "code",
   "execution_count": 7,
   "metadata": {},
   "outputs": [],
   "source": [
    "# Only keep the 9 teams being analysed \n",
    "master_data = master_data[master_data['constructorID'].isin(constructor_list)]"
   ]
  },
  {
   "cell_type": "code",
   "execution_count": 8,
   "metadata": {},
   "outputs": [],
   "source": [
    "# Removing 2021 for the regressions, a different CSV file was created including the 2021 data for the section 2 graph\n",
    "master_data.reset_index(drop=True)\n",
    "master_data = master_data[master_data['year'] != 2021]"
   ]
  },
  {
   "cell_type": "markdown",
   "metadata": {},
   "source": [
    "The following section calculates the number of points scored by all teams in a given year, and then finds the proportion of that total that each team scored"
   ]
  },
  {
   "cell_type": "code",
   "execution_count": 16,
   "metadata": {},
   "outputs": [],
   "source": [
    "master_data['points'] = master_data['points'].astype(int)"
   ]
  },
  {
   "cell_type": "code",
   "execution_count": 19,
   "metadata": {},
   "outputs": [],
   "source": [
    "def categorise(row):\n",
    "    return master_data.loc[master_data['year']==row['year'], 'points'].sum()\n",
    "master_data['totalpoints'] = master_data.apply(lambda row: categorise(row), axis=1)"
   ]
  },
  {
   "cell_type": "code",
   "execution_count": 23,
   "metadata": {},
   "outputs": [],
   "source": [
    "master_data['proptotalpoints'] = (master_data['points']/master_data['totalpoints'])"
   ]
  },
  {
   "cell_type": "code",
   "execution_count": 37,
   "metadata": {},
   "outputs": [],
   "source": [
    "master_data.to_csv('constructor-standings-2012-2021-proportions.csv')"
   ]
  }
 ],
 "metadata": {
  "interpreter": {
   "hash": "d6709e1126abc17ab4496592348fc442ac7bbe2916862946e3d6434754acf018"
  },
  "kernelspec": {
   "display_name": "Python 3.9.1 64-bit ('.venv': venv)",
   "language": "python",
   "name": "python3"
  },
  "language_info": {
   "codemirror_mode": {
    "name": "ipython",
    "version": 3
   },
   "file_extension": ".py",
   "mimetype": "text/x-python",
   "name": "python",
   "nbconvert_exporter": "python",
   "pygments_lexer": "ipython3",
   "version": "3.9.1"
  },
  "orig_nbformat": 4
 },
 "nbformat": 4,
 "nbformat_minor": 2
}
