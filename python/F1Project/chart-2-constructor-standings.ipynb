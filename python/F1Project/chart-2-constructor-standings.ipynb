{
 "cells": [
  {
   "cell_type": "code",
   "execution_count": 1,
   "metadata": {},
   "outputs": [],
   "source": [
    "import pandas as pd\n",
    "import requests\n",
    "import formula1 as f1"
   ]
  },
  {
   "cell_type": "code",
   "execution_count": 2,
   "metadata": {},
   "outputs": [],
   "source": [
    "# Accessing the Ergast F1 API. This was especially complex and could only be done in python due to the multiple levels \n",
    "# of nesting (MRData, StandingsTable, StandingsLists etc) present in the API\n",
    "# Inspired by the pyErgast python module\n",
    "\n",
    "def constructor_standings(year):\n",
    "    url = 'http://ergast.com/api/f1/{}/constructorStandings.json?limit=1000000'.format(year)\n",
    "    r = requests.get(url)\n",
    "    constructorStandings = r.json()['MRData']['StandingsTable']['StandingsLists'][0]['ConstructorStandings']\n",
    "    for i in constructorStandings:\n",
    "        i['constructorID'] = i['Constructor']['constructorId']\n",
    "        i['name'] = i['Constructor']['name']\n",
    "        del i['Constructor']\n",
    "    return pd.DataFrame(constructorStandings)"
   ]
  },
  {
   "cell_type": "code",
   "execution_count": 3,
   "metadata": {},
   "outputs": [],
   "source": [
    "# Create a dataframe with the year and number of races in that year to normalise the total points scored.\n",
    "#race_count = pd.DataFrame(columns={'year', 'races'})\n",
    "race_count = {}\n",
    "for i in range(2012, 2021):\n",
    "    df = f1.get_schedule(i)\n",
    "    #race_count.loc[(i-2012)] = [i, len(df['round'])]\n",
    "    race_count[i] = len(df['round'])*(25+18+1)\n",
    "\n",
    "# The maximum points that a constructor can score in a single race is 25 (first place) + 18 (second place) + 1 (fastest lap) (since each team has 2 drivers)\n",
    "#race_count['maxpoints'] = race_count['races'].values*(25+18+1)"
   ]
  },
  {
   "cell_type": "code",
   "execution_count": 4,
   "metadata": {},
   "outputs": [],
   "source": [
    "master_data = pd.DataFrame()\n",
    "\n",
    "for i in range(2012, 2022):\n",
    "    df = constructor_standings(i)\n",
    "    df = df[['name', 'points', 'constructorID']]\n",
    "    df['year'] = i\n",
    "    master_data = master_data.append(df)\n"
   ]
  },
  {
   "cell_type": "code",
   "execution_count": null,
   "metadata": {},
   "outputs": [],
   "source": [
    "constructor_list = ['mercedes', 'red_bull', 'ferrari', 'williams', 'mclaren', 'alpine', 'alphatauri', 'alfa', 'aston_martin']\n"
   ]
  },
  {
   "cell_type": "code",
   "execution_count": null,
   "metadata": {},
   "outputs": [],
   "source": [
    "master_data['constructorID'].replace(\"lotus_f1\", \"alpine\", inplace=True)\n",
    "master_data['constructorID'].replace(\"renault\", \"alpine\", inplace=True)\n",
    "\n",
    "master_data['constructorID'].replace(\"sauber\", \"alfa\", inplace=True)\n",
    "\n",
    "master_data['constructorID'].replace(\"toro_rosso\", \"alphatauri\", inplace=True)\n",
    "\n",
    "master_data['constructorID'].replace(\"force_india\", \"aston_martin\", inplace=True)\n",
    "master_data['constructorID'].replace(\"racing_point\", \"aston_martin\", inplace=True)"
   ]
  },
  {
   "cell_type": "code",
   "execution_count": null,
   "metadata": {},
   "outputs": [],
   "source": [
    "master_data['name'].replace(\"Lotus F1\", \"Alpine F1 Team\", inplace=True)\n",
    "master_data['name'].replace(\"Renault\", \"Alpine F1 Team\", inplace=True)\n",
    "\n",
    "master_data['name'].replace(\"Sauber\", \"Alfa Romeo\", inplace=True)\n",
    "\n",
    "master_data['name'].replace(\"Toro Rosso\", \"AlphaTauri\", inplace=True)\n",
    "\n",
    "master_data['name'].replace(\"Force India\", \"Aston Martin\", inplace=True)\n",
    "master_data['name'].replace(\"Racing Point\", \"Aston Martin\", inplace=True)"
   ]
  },
  {
   "cell_type": "code",
   "execution_count": null,
   "metadata": {},
   "outputs": [],
   "source": [
    "master_data = master_data[master_data['constructorID'].isin(constructor_list)]"
   ]
  },
  {
   "cell_type": "code",
   "execution_count": null,
   "metadata": {},
   "outputs": [],
   "source": [
    "master_data.reset_index(drop=True)\n",
    "master_data = master_data[master_data['year'] != 2021]"
   ]
  },
  {
   "cell_type": "code",
   "execution_count": null,
   "metadata": {},
   "outputs": [],
   "source": [
    "def categorise(row):\n",
    "    return race_count[row['year']]\n",
    "\n",
    "master_data['maxpoints'] = master_data.apply(lambda row: categorise(row), axis=1)"
   ]
  },
  {
   "cell_type": "code",
   "execution_count": null,
   "metadata": {},
   "outputs": [],
   "source": [
    "master_data"
   ]
  },
  {
   "cell_type": "code",
   "execution_count": null,
   "metadata": {},
   "outputs": [],
   "source": [
    "#master_data.to_csv('chart2-constructor-standings-2012-2021.csv')\n",
    "#master_data.to_excel('chart2-constructor-standings-2012-2021.xlsx')"
   ]
  }
 ],
 "metadata": {
  "interpreter": {
   "hash": "d6709e1126abc17ab4496592348fc442ac7bbe2916862946e3d6434754acf018"
  },
  "kernelspec": {
   "display_name": "Python 3.9.1 64-bit ('.venv': venv)",
   "language": "python",
   "name": "python3"
  },
  "language_info": {
   "codemirror_mode": {
    "name": "ipython",
    "version": 3
   },
   "file_extension": ".py",
   "mimetype": "text/x-python",
   "name": "python",
   "nbconvert_exporter": "python",
   "pygments_lexer": "ipython3",
   "version": "3.9.1"
  },
  "orig_nbformat": 4
 },
 "nbformat": 4,
 "nbformat_minor": 2
}
