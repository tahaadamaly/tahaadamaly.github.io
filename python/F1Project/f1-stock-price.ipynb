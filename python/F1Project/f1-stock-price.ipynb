{
 "cells": [
  {
   "cell_type": "code",
   "execution_count": 103,
   "metadata": {},
   "outputs": [],
   "source": [
    "import yfinance as yf\n",
    "import pandas as pd\n",
    "import numpy as np\n"
   ]
  },
  {
   "cell_type": "code",
   "execution_count": 142,
   "metadata": {},
   "outputs": [
    {
     "name": "stdout",
     "output_type": "stream",
     "text": [
      "[*********************100%***********************]  6 of 6 completed\n"
     ]
    }
   ],
   "source": [
    "tickers_list = ['DAI.DE', 'RACE', 'WGF1.F', 'RNL.DE', 'AML.L', 'STLA']\n",
    "data = yf.download(tickers_list, '2012-1-1', '2021-1-1')['Adj Close']"
   ]
  },
  {
   "cell_type": "code",
   "execution_count": 143,
   "metadata": {},
   "outputs": [],
   "source": [
    "data = data.reset_index()"
   ]
  },
  {
   "cell_type": "code",
   "execution_count": 156,
   "metadata": {},
   "outputs": [],
   "source": [
    "aml = data[['Date', 'AML.L']]\n",
    "ferrari = data[['Date', 'RACE']]\n",
    "mercedes = data[['Date', 'DAI.DE']]\n",
    "williams = data[['Date', 'WGF1.F']]"
   ]
  },
  {
   "cell_type": "code",
   "execution_count": 157,
   "metadata": {},
   "outputs": [],
   "source": [
    "aml = aml = aml.dropna()\n",
    "ferrari = ferrari.dropna()"
   ]
  },
  {
   "cell_type": "code",
   "execution_count": 158,
   "metadata": {},
   "outputs": [],
   "source": [
    "ferrari['Date'] = pd.DatetimeIndex(ferrari['Date']).year\n",
    "ferrari = ferrari.groupby('Date', as_index=False)['RACE'].mean()"
   ]
  },
  {
   "cell_type": "code",
   "execution_count": null,
   "metadata": {},
   "outputs": [],
   "source": [
    "mercedes['Date'] = pd.DatetimeIndex(mercedes['Date']).year\n",
    "mercedes = mercedes.groupby('Date', as_index=False)['DAI.DE'].mean()"
   ]
  },
  {
   "cell_type": "code",
   "execution_count": null,
   "metadata": {},
   "outputs": [],
   "source": [
    "williams['Date'] = pd.DatetimeIndex(williams['Date']).year\n",
    "williams = williams.groupby('Date', as_index=False)['WGF1.F'].mean()"
   ]
  },
  {
   "cell_type": "code",
   "execution_count": 161,
   "metadata": {},
   "outputs": [],
   "source": [
    "aml['Date'] = pd.DatetimeIndex(aml['Date']).year\n",
    "aml = aml.groupby('Date', as_index=False)['AML.L'].mean()"
   ]
  },
  {
   "cell_type": "code",
   "execution_count": 171,
   "metadata": {},
   "outputs": [],
   "source": [
    "master = pd.DataFrame()\n",
    "master['year'] = mercedes['Date']\n",
    "master['mercedes'] = mercedes['DAI.DE']\n",
    "master['williams'] = williams['WGF1.F']"
   ]
  },
  {
   "cell_type": "code",
   "execution_count": 173,
   "metadata": {},
   "outputs": [],
   "source": [
    "master.to_csv('f1-mercedes-williams-stocks.csv')"
   ]
  }
 ],
 "metadata": {
  "interpreter": {
   "hash": "d6709e1126abc17ab4496592348fc442ac7bbe2916862946e3d6434754acf018"
  },
  "kernelspec": {
   "display_name": "Python 3.9.1 64-bit ('.venv': venv)",
   "language": "python",
   "name": "python3"
  },
  "language_info": {
   "codemirror_mode": {
    "name": "ipython",
    "version": 3
   },
   "file_extension": ".py",
   "mimetype": "text/x-python",
   "name": "python",
   "nbconvert_exporter": "python",
   "pygments_lexer": "ipython3",
   "version": "3.9.1"
  },
  "orig_nbformat": 4
 },
 "nbformat": 4,
 "nbformat_minor": 2
}
