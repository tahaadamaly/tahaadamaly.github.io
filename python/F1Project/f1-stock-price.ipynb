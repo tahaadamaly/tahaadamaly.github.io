{
 "cells": [
  {
   "cell_type": "code",
   "execution_count": 1,
   "metadata": {},
   "outputs": [],
   "source": [
    "import yfinance as yf\n",
    "import pandas as pd\n",
    "import numpy as np\n"
   ]
  },
  {
   "cell_type": "markdown",
   "metadata": {},
   "source": [
    "This python file is used to access yahoo finance through the yfinance python module to access stock data for Mercedes (Daimler AG), Williams F1, Ferrari, Renault, Aston Marting and Alfa Romeo"
   ]
  },
  {
   "cell_type": "code",
   "execution_count": 2,
   "metadata": {},
   "outputs": [
    {
     "name": "stdout",
     "output_type": "stream",
     "text": [
      "[*********************100%***********************]  6 of 6 completed\n"
     ]
    }
   ],
   "source": [
    "tickers_list = ['DAI.DE', 'RACE', 'WGF1.F', 'RNL.DE', 'AML.L', 'STLA']\n",
    "data = yf.download(tickers_list, '2012-1-1', '2021-1-1')['Adj Close']"
   ]
  },
  {
   "cell_type": "code",
   "execution_count": 3,
   "metadata": {},
   "outputs": [],
   "source": [
    "data = data.reset_index()"
   ]
  },
  {
   "cell_type": "code",
   "execution_count": 7,
   "metadata": {},
   "outputs": [],
   "source": [
    "data['Date'] = pd.DatetimeIndex(data['Date']).year\n",
    "data = data.groupby('Date', as_index=False)[['RACE', 'DAI.DE', 'WGF1.F', 'AML.L', 'RNL.DE']].mean()\n"
   ]
  },
  {
   "cell_type": "code",
   "execution_count": 10,
   "metadata": {},
   "outputs": [
    {
     "data": {
      "text/html": [
       "<div>\n",
       "<style scoped>\n",
       "    .dataframe tbody tr th:only-of-type {\n",
       "        vertical-align: middle;\n",
       "    }\n",
       "\n",
       "    .dataframe tbody tr th {\n",
       "        vertical-align: top;\n",
       "    }\n",
       "\n",
       "    .dataframe thead th {\n",
       "        text-align: right;\n",
       "    }\n",
       "</style>\n",
       "<table border=\"1\" class=\"dataframe\">\n",
       "  <thead>\n",
       "    <tr style=\"text-align: right;\">\n",
       "      <th></th>\n",
       "      <th>Date</th>\n",
       "      <th>RACE</th>\n",
       "      <th>DAI</th>\n",
       "      <th>WGF1</th>\n",
       "      <th>AML</th>\n",
       "      <th>RNL</th>\n",
       "    </tr>\n",
       "  </thead>\n",
       "  <tbody>\n",
       "    <tr>\n",
       "      <th>0</th>\n",
       "      <td>2012</td>\n",
       "      <td>NaN</td>\n",
       "      <td>26.064442</td>\n",
       "      <td>21.758508</td>\n",
       "      <td>NaN</td>\n",
       "      <td>25.708753</td>\n",
       "    </tr>\n",
       "    <tr>\n",
       "      <th>1</th>\n",
       "      <td>2013</td>\n",
       "      <td>NaN</td>\n",
       "      <td>34.907027</td>\n",
       "      <td>19.977609</td>\n",
       "      <td>NaN</td>\n",
       "      <td>41.273753</td>\n",
       "    </tr>\n",
       "    <tr>\n",
       "      <th>2</th>\n",
       "      <td>2014</td>\n",
       "      <td>NaN</td>\n",
       "      <td>46.544923</td>\n",
       "      <td>17.564194</td>\n",
       "      <td>NaN</td>\n",
       "      <td>49.464099</td>\n",
       "    </tr>\n",
       "    <tr>\n",
       "      <th>3</th>\n",
       "      <td>2015</td>\n",
       "      <td>47.150623</td>\n",
       "      <td>59.162832</td>\n",
       "      <td>14.856024</td>\n",
       "      <td>NaN</td>\n",
       "      <td>65.756157</td>\n",
       "    </tr>\n",
       "    <tr>\n",
       "      <th>4</th>\n",
       "      <td>2016</td>\n",
       "      <td>44.125627</td>\n",
       "      <td>48.472419</td>\n",
       "      <td>13.884035</td>\n",
       "      <td>NaN</td>\n",
       "      <td>62.972294</td>\n",
       "    </tr>\n",
       "    <tr>\n",
       "      <th>5</th>\n",
       "      <td>2017</td>\n",
       "      <td>88.539899</td>\n",
       "      <td>54.633371</td>\n",
       "      <td>17.855486</td>\n",
       "      <td>NaN</td>\n",
       "      <td>68.929516</td>\n",
       "    </tr>\n",
       "    <tr>\n",
       "      <th>6</th>\n",
       "      <td>2018</td>\n",
       "      <td>121.375398</td>\n",
       "      <td>51.626193</td>\n",
       "      <td>16.768651</td>\n",
       "      <td>9158.121157</td>\n",
       "      <td>67.791353</td>\n",
       "    </tr>\n",
       "    <tr>\n",
       "      <th>7</th>\n",
       "      <td>2019</td>\n",
       "      <td>145.089181</td>\n",
       "      <td>44.656073</td>\n",
       "      <td>13.842231</td>\n",
       "      <td>5248.545584</td>\n",
       "      <td>49.034163</td>\n",
       "    </tr>\n",
       "    <tr>\n",
       "      <th>8</th>\n",
       "      <td>2020</td>\n",
       "      <td>177.082222</td>\n",
       "      <td>39.925434</td>\n",
       "      <td>11.964567</td>\n",
       "      <td>1499.399315</td>\n",
       "      <td>25.031306</td>\n",
       "    </tr>\n",
       "  </tbody>\n",
       "</table>\n",
       "</div>"
      ],
      "text/plain": [
       "   Date        RACE        DAI       WGF1          AML        RNL\n",
       "0  2012         NaN  26.064442  21.758508          NaN  25.708753\n",
       "1  2013         NaN  34.907027  19.977609          NaN  41.273753\n",
       "2  2014         NaN  46.544923  17.564194          NaN  49.464099\n",
       "3  2015   47.150623  59.162832  14.856024          NaN  65.756157\n",
       "4  2016   44.125627  48.472419  13.884035          NaN  62.972294\n",
       "5  2017   88.539899  54.633371  17.855486          NaN  68.929516\n",
       "6  2018  121.375398  51.626193  16.768651  9158.121157  67.791353\n",
       "7  2019  145.089181  44.656073  13.842231  5248.545584  49.034163\n",
       "8  2020  177.082222  39.925434  11.964567  1499.399315  25.031306"
      ]
     },
     "execution_count": 10,
     "metadata": {},
     "output_type": "execute_result"
    }
   ],
   "source": [
    "data.rename(columns={'DAI.DE': 'DAI', 'AML.L': 'AML', 'RNL.DE': 'RNL', 'WGF1.F': 'WGF1'})"
   ]
  },
  {
   "cell_type": "code",
   "execution_count": 11,
   "metadata": {},
   "outputs": [],
   "source": [
    "data.to_csv('f1-team-stock-prices.csv')"
   ]
  },
  {
   "cell_type": "code",
   "execution_count": 4,
   "metadata": {},
   "outputs": [],
   "source": [
    "aml = data[['Date', 'AML.L']]\n",
    "ferrari = data[['Date', 'RACE']]\n",
    "mercedes = data[['Date', 'DAI.DE']]\n",
    "williams = data[['Date', 'WGF1.F']]\n",
    "renault = data[['Date', '']]"
   ]
  },
  {
   "cell_type": "code",
   "execution_count": 5,
   "metadata": {},
   "outputs": [],
   "source": [
    "aml = aml = aml.dropna()\n",
    "ferrari = ferrari.dropna()"
   ]
  },
  {
   "cell_type": "code",
   "execution_count": 6,
   "metadata": {},
   "outputs": [],
   "source": [
    "ferrari['Date'] = pd.DatetimeIndex(ferrari['Date']).year\n",
    "ferrari = ferrari.groupby('Date', as_index=False)['RACE'].mean()"
   ]
  },
  {
   "cell_type": "code",
   "execution_count": 7,
   "metadata": {},
   "outputs": [
    {
     "name": "stderr",
     "output_type": "stream",
     "text": [
      "/var/folders/ry/nqgxl42n3vjg1sj6zlxsr0rr0000gn/T/ipykernel_3501/2207470711.py:1: SettingWithCopyWarning: \n",
      "A value is trying to be set on a copy of a slice from a DataFrame.\n",
      "Try using .loc[row_indexer,col_indexer] = value instead\n",
      "\n",
      "See the caveats in the documentation: https://pandas.pydata.org/pandas-docs/stable/user_guide/indexing.html#returning-a-view-versus-a-copy\n",
      "  mercedes['Date'] = pd.DatetimeIndex(mercedes['Date']).year\n"
     ]
    }
   ],
   "source": [
    "mercedes['Date'] = pd.DatetimeIndex(mercedes['Date']).year\n",
    "mercedes = mercedes.groupby('Date', as_index=False)['DAI.DE'].mean()"
   ]
  },
  {
   "cell_type": "code",
   "execution_count": 8,
   "metadata": {},
   "outputs": [
    {
     "name": "stderr",
     "output_type": "stream",
     "text": [
      "/var/folders/ry/nqgxl42n3vjg1sj6zlxsr0rr0000gn/T/ipykernel_3501/2678651929.py:1: SettingWithCopyWarning: \n",
      "A value is trying to be set on a copy of a slice from a DataFrame.\n",
      "Try using .loc[row_indexer,col_indexer] = value instead\n",
      "\n",
      "See the caveats in the documentation: https://pandas.pydata.org/pandas-docs/stable/user_guide/indexing.html#returning-a-view-versus-a-copy\n",
      "  williams['Date'] = pd.DatetimeIndex(williams['Date']).year\n"
     ]
    }
   ],
   "source": [
    "williams['Date'] = pd.DatetimeIndex(williams['Date']).year\n",
    "williams = williams.groupby('Date', as_index=False)['WGF1.F'].mean()"
   ]
  },
  {
   "cell_type": "code",
   "execution_count": 9,
   "metadata": {},
   "outputs": [],
   "source": [
    "aml['Date'] = pd.DatetimeIndex(aml['Date']).year\n",
    "aml = aml.groupby('Date', as_index=False)['AML.L'].mean()"
   ]
  },
  {
   "cell_type": "code",
   "execution_count": 10,
   "metadata": {},
   "outputs": [],
   "source": [
    "master = pd.DataFrame()\n",
    "master['year'] = mercedes['Date']\n",
    "master['mercedes'] = mercedes['DAI.DE']\n",
    "master['williams'] = williams['WGF1.F']\n",
    "master['ferrari'] = ferrari['RACE']\n",
    "master['aston_martin'] = aml['AML.L']"
   ]
  },
  {
   "cell_type": "code",
   "execution_count": null,
   "metadata": {},
   "outputs": [],
   "source": [
    "# Only Mercedes and Williams are used as they are the only two teams with stock data going back to 2012.\n",
    "master.to_csv('f1-mercedes-williams-stocks.csv')"
   ]
  }
 ],
 "metadata": {
  "interpreter": {
   "hash": "d6709e1126abc17ab4496592348fc442ac7bbe2916862946e3d6434754acf018"
  },
  "kernelspec": {
   "display_name": "Python 3.9.1 64-bit ('.venv': venv)",
   "language": "python",
   "name": "python3"
  },
  "language_info": {
   "codemirror_mode": {
    "name": "ipython",
    "version": 3
   },
   "file_extension": ".py",
   "mimetype": "text/x-python",
   "name": "python",
   "nbconvert_exporter": "python",
   "pygments_lexer": "ipython3",
   "version": "3.9.1"
  },
  "orig_nbformat": 4
 },
 "nbformat": 4,
 "nbformat_minor": 2
}
