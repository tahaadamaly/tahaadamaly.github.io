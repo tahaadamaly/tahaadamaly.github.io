{
 "cells": [
  {
   "cell_type": "code",
   "execution_count": 1,
   "metadata": {},
   "outputs": [],
   "source": [
    "import yfinance as yf\n",
    "import pandas as pd\n",
    "import numpy as np\n"
   ]
  },
  {
   "cell_type": "code",
   "execution_count": 2,
   "metadata": {},
   "outputs": [],
   "source": [
    "dai = yf.Ticker(\"DAI.DE\").history(period=\"10y\", interval=\"1mo\")\n",
    "ferrari = yf.Ticker(\"RACE\").history(period=\"10y\", interval=\"1mo\")\n",
    "williams = yf.Ticker(\"WGF1.F\").history(period=\"10y\", interval=\"1mo\")\n",
    "alpine = yf.Ticker(\"RNl.DE\").history(period=\"10y\", interval=\"1mo\")\n",
    "aston = yf.Ticker(\"AML.L\").history(period=\"10y\", interval=\"1mo\")\n",
    "alfa = yf.Ticker(\"STLA\").history(period=\"10y\", interval=\"1mo\")"
   ]
  },
  {
   "cell_type": "code",
   "execution_count": 3,
   "metadata": {},
   "outputs": [],
   "source": [
    "dai = dai.reset_index()\n",
    "dai = dai[['Date', 'Close']]\n",
    "\n",
    "ferrari = ferrari.reset_index()\n",
    "ferrari = ferrari[['Date', 'Close']]\n",
    "\n",
    "williams = williams.reset_index()\n",
    "williams = williams[['Date', 'Close']]\n",
    "\n",
    "alpine = alpine.reset_index()\n",
    "alpine = alpine[['Date', 'Close']]\n",
    "\n",
    "aston = aston.reset_index()\n",
    "aston = aston[['Date', 'Close']]\n",
    "\n",
    "alfa = alfa.reset_index()\n",
    "alfa = alfa[['Date', 'Close']]"
   ]
  },
  {
   "cell_type": "code",
   "execution_count": 4,
   "metadata": {},
   "outputs": [
    {
     "name": "stdout",
     "output_type": "stream",
     "text": [
      "[*********************100%***********************]  6 of 6 completed\n"
     ]
    }
   ],
   "source": [
    "tickers_list = ['DAI.DE', 'RACE', 'WGF1.F', 'RNL.DE', 'AML.L', 'STLA']\n",
    "data = yf.download(tickers_list, '2012-1-1', '2021-1-1')['Adj Close']"
   ]
  },
  {
   "cell_type": "code",
   "execution_count": 5,
   "metadata": {},
   "outputs": [],
   "source": [
    "data = data.reset_index()"
   ]
  },
  {
   "cell_type": "code",
   "execution_count": 6,
   "metadata": {},
   "outputs": [],
   "source": [
    "aml = data[['Date', 'AML.L']]"
   ]
  },
  {
   "cell_type": "code",
   "execution_count": 7,
   "metadata": {},
   "outputs": [
    {
     "data": {
      "text/html": [
       "<div>\n",
       "<style scoped>\n",
       "    .dataframe tbody tr th:only-of-type {\n",
       "        vertical-align: middle;\n",
       "    }\n",
       "\n",
       "    .dataframe tbody tr th {\n",
       "        vertical-align: top;\n",
       "    }\n",
       "\n",
       "    .dataframe thead th {\n",
       "        text-align: right;\n",
       "    }\n",
       "</style>\n",
       "<table border=\"1\" class=\"dataframe\">\n",
       "  <thead>\n",
       "    <tr style=\"text-align: right;\">\n",
       "      <th></th>\n",
       "      <th>Date</th>\n",
       "      <th>AML.L</th>\n",
       "    </tr>\n",
       "  </thead>\n",
       "  <tbody>\n",
       "    <tr>\n",
       "      <th>0</th>\n",
       "      <td>2012-01-02</td>\n",
       "      <td>NaN</td>\n",
       "    </tr>\n",
       "    <tr>\n",
       "      <th>1</th>\n",
       "      <td>2012-01-03</td>\n",
       "      <td>NaN</td>\n",
       "    </tr>\n",
       "    <tr>\n",
       "      <th>2</th>\n",
       "      <td>2012-01-04</td>\n",
       "      <td>NaN</td>\n",
       "    </tr>\n",
       "    <tr>\n",
       "      <th>3</th>\n",
       "      <td>2012-01-05</td>\n",
       "      <td>NaN</td>\n",
       "    </tr>\n",
       "    <tr>\n",
       "      <th>4</th>\n",
       "      <td>2012-01-06</td>\n",
       "      <td>NaN</td>\n",
       "    </tr>\n",
       "    <tr>\n",
       "      <th>...</th>\n",
       "      <td>...</td>\n",
       "      <td>...</td>\n",
       "    </tr>\n",
       "    <tr>\n",
       "      <th>2320</th>\n",
       "      <td>2020-12-24</td>\n",
       "      <td>1832.800049</td>\n",
       "    </tr>\n",
       "    <tr>\n",
       "      <th>2321</th>\n",
       "      <td>2020-12-28</td>\n",
       "      <td>NaN</td>\n",
       "    </tr>\n",
       "    <tr>\n",
       "      <th>2322</th>\n",
       "      <td>2020-12-29</td>\n",
       "      <td>1969.000000</td>\n",
       "    </tr>\n",
       "    <tr>\n",
       "      <th>2323</th>\n",
       "      <td>2020-12-30</td>\n",
       "      <td>2004.000000</td>\n",
       "    </tr>\n",
       "    <tr>\n",
       "      <th>2324</th>\n",
       "      <td>2020-12-31</td>\n",
       "      <td>2009.000000</td>\n",
       "    </tr>\n",
       "  </tbody>\n",
       "</table>\n",
       "<p>2325 rows × 2 columns</p>\n",
       "</div>"
      ],
      "text/plain": [
       "           Date        AML.L\n",
       "0    2012-01-02          NaN\n",
       "1    2012-01-03          NaN\n",
       "2    2012-01-04          NaN\n",
       "3    2012-01-05          NaN\n",
       "4    2012-01-06          NaN\n",
       "...         ...          ...\n",
       "2320 2020-12-24  1832.800049\n",
       "2321 2020-12-28          NaN\n",
       "2322 2020-12-29  1969.000000\n",
       "2323 2020-12-30  2004.000000\n",
       "2324 2020-12-31  2009.000000\n",
       "\n",
       "[2325 rows x 2 columns]"
      ]
     },
     "execution_count": 7,
     "metadata": {},
     "output_type": "execute_result"
    }
   ],
   "source": [
    "aml"
   ]
  },
  {
   "cell_type": "code",
   "execution_count": 69,
   "metadata": {},
   "outputs": [
    {
     "name": "stderr",
     "output_type": "stream",
     "text": [
      "/var/folders/ry/nqgxl42n3vjg1sj6zlxsr0rr0000gn/T/ipykernel_4264/814574179.py:1: SettingWithCopyWarning: \n",
      "A value is trying to be set on a copy of a slice from a DataFrame.\n",
      "Try using .loc[row_indexer,col_indexer] = value instead\n",
      "\n",
      "See the caveats in the documentation: https://pandas.pydata.org/pandas-docs/stable/user_guide/indexing.html#returning-a-view-versus-a-copy\n",
      "  aml['Date'] = pd.to_datetime(aml.Date)\n"
     ]
    },
    {
     "data": {
      "text/plain": [
       "0      2012-06-30 20:28:43.552123648\n",
       "1      2012-06-30 20:28:43.552123648\n",
       "2      2012-06-30 20:28:43.552123648\n",
       "3      2012-06-30 20:28:43.552123648\n",
       "4      2012-06-30 20:28:43.552123648\n",
       "                    ...             \n",
       "2320   2020-07-02 01:01:09.498069504\n",
       "2321   2020-07-02 01:01:09.498069504\n",
       "2322   2020-07-02 01:01:09.498069504\n",
       "2323   2020-07-02 01:01:09.498069504\n",
       "2324   2020-07-02 01:01:09.498069504\n",
       "Name: Date, Length: 2325, dtype: datetime64[ns]"
      ]
     },
     "execution_count": 69,
     "metadata": {},
     "output_type": "execute_result"
    }
   ],
   "source": [
    "aml['Date'] = pd.to_datetime(aml.Date)\n",
    "\n",
    "aml.groupby(data.Date.dt.year)['Date'].transform('mean')\n"
   ]
  },
  {
   "cell_type": "code",
   "execution_count": 70,
   "metadata": {},
   "outputs": [
    {
     "data": {
      "text/html": [
       "<div>\n",
       "<style scoped>\n",
       "    .dataframe tbody tr th:only-of-type {\n",
       "        vertical-align: middle;\n",
       "    }\n",
       "\n",
       "    .dataframe tbody tr th {\n",
       "        vertical-align: top;\n",
       "    }\n",
       "\n",
       "    .dataframe thead th {\n",
       "        text-align: right;\n",
       "    }\n",
       "</style>\n",
       "<table border=\"1\" class=\"dataframe\">\n",
       "  <thead>\n",
       "    <tr style=\"text-align: right;\">\n",
       "      <th></th>\n",
       "      <th>Date</th>\n",
       "      <th>AML.L</th>\n",
       "    </tr>\n",
       "  </thead>\n",
       "  <tbody>\n",
       "    <tr>\n",
       "      <th>0</th>\n",
       "      <td>2012-01-02</td>\n",
       "      <td>NaN</td>\n",
       "    </tr>\n",
       "    <tr>\n",
       "      <th>1</th>\n",
       "      <td>2012-01-03</td>\n",
       "      <td>NaN</td>\n",
       "    </tr>\n",
       "    <tr>\n",
       "      <th>2</th>\n",
       "      <td>2012-01-04</td>\n",
       "      <td>NaN</td>\n",
       "    </tr>\n",
       "    <tr>\n",
       "      <th>3</th>\n",
       "      <td>2012-01-05</td>\n",
       "      <td>NaN</td>\n",
       "    </tr>\n",
       "    <tr>\n",
       "      <th>4</th>\n",
       "      <td>2012-01-06</td>\n",
       "      <td>NaN</td>\n",
       "    </tr>\n",
       "    <tr>\n",
       "      <th>...</th>\n",
       "      <td>...</td>\n",
       "      <td>...</td>\n",
       "    </tr>\n",
       "    <tr>\n",
       "      <th>2320</th>\n",
       "      <td>2020-12-24</td>\n",
       "      <td>1832.800049</td>\n",
       "    </tr>\n",
       "    <tr>\n",
       "      <th>2321</th>\n",
       "      <td>2020-12-28</td>\n",
       "      <td>NaN</td>\n",
       "    </tr>\n",
       "    <tr>\n",
       "      <th>2322</th>\n",
       "      <td>2020-12-29</td>\n",
       "      <td>1969.000000</td>\n",
       "    </tr>\n",
       "    <tr>\n",
       "      <th>2323</th>\n",
       "      <td>2020-12-30</td>\n",
       "      <td>2004.000000</td>\n",
       "    </tr>\n",
       "    <tr>\n",
       "      <th>2324</th>\n",
       "      <td>2020-12-31</td>\n",
       "      <td>2009.000000</td>\n",
       "    </tr>\n",
       "  </tbody>\n",
       "</table>\n",
       "<p>2325 rows × 2 columns</p>\n",
       "</div>"
      ],
      "text/plain": [
       "           Date        AML.L\n",
       "0    2012-01-02          NaN\n",
       "1    2012-01-03          NaN\n",
       "2    2012-01-04          NaN\n",
       "3    2012-01-05          NaN\n",
       "4    2012-01-06          NaN\n",
       "...         ...          ...\n",
       "2320 2020-12-24  1832.800049\n",
       "2321 2020-12-28          NaN\n",
       "2322 2020-12-29  1969.000000\n",
       "2323 2020-12-30  2004.000000\n",
       "2324 2020-12-31  2009.000000\n",
       "\n",
       "[2325 rows x 2 columns]"
      ]
     },
     "execution_count": 70,
     "metadata": {},
     "output_type": "execute_result"
    }
   ],
   "source": [
    "aml"
   ]
  },
  {
   "cell_type": "code",
   "execution_count": null,
   "metadata": {},
   "outputs": [],
   "source": []
  }
 ],
 "metadata": {
  "interpreter": {
   "hash": "d6709e1126abc17ab4496592348fc442ac7bbe2916862946e3d6434754acf018"
  },
  "kernelspec": {
   "display_name": "Python 3.9.1 64-bit ('.venv': venv)",
   "language": "python",
   "name": "python3"
  },
  "language_info": {
   "codemirror_mode": {
    "name": "ipython",
    "version": 3
   },
   "file_extension": ".py",
   "mimetype": "text/x-python",
   "name": "python",
   "nbconvert_exporter": "python",
   "pygments_lexer": "ipython3",
   "version": "3.9.1"
  },
  "orig_nbformat": 4
 },
 "nbformat": 4,
 "nbformat_minor": 2
}
