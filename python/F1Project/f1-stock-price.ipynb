{
 "cells": [
  {
   "cell_type": "code",
   "execution_count": 1,
   "metadata": {},
   "outputs": [],
   "source": [
    "import yfinance as yf\n",
    "import pandas as pd\n",
    "import numpy as np\n"
   ]
  },
  {
   "cell_type": "code",
   "execution_count": 2,
   "metadata": {},
   "outputs": [],
   "source": [
    "dai = yf.Ticker(\"DAI.DE\").history(period=\"10y\", interval=\"1mo\")\n",
    "ferrari = yf.Ticker(\"RACE\").history(period=\"10y\", interval=\"1mo\")\n",
    "williams = yf.Ticker(\"WGF1.F\").history(period=\"10y\", interval=\"1mo\")\n",
    "alpine = yf.Ticker(\"RNl.DE\").history(period=\"10y\", interval=\"1mo\")\n",
    "aston = yf.Ticker(\"AML.L\").history(period=\"10y\", interval=\"1mo\")\n",
    "alfa = yf.Ticker(\"STLA\").history(period=\"10y\", interval=\"1mo\")"
   ]
  },
  {
   "cell_type": "code",
   "execution_count": 3,
   "metadata": {},
   "outputs": [],
   "source": [
    "dai = dai.reset_index()\n",
    "dai = dai[['Date', 'Close']]\n",
    "\n",
    "ferrari = ferrari.reset_index()\n",
    "ferrari = ferrari[['Date', 'Close']]\n",
    "\n",
    "williams = williams.reset_index()\n",
    "williams = williams[['Date', 'Close']]\n",
    "\n",
    "alpine = alpine.reset_index()\n",
    "alpine = alpine[['Date', 'Close']]\n",
    "\n",
    "aston = aston.reset_index()\n",
    "aston = aston[['Date', 'Close']]\n",
    "\n",
    "alfa = alfa.reset_index()\n",
    "alfa = alfa[['Date', 'Close']]"
   ]
  },
  {
   "cell_type": "code",
   "execution_count": 4,
   "metadata": {},
   "outputs": [
    {
     "name": "stdout",
     "output_type": "stream",
     "text": [
      "[*********************100%***********************]  6 of 6 completed\n"
     ]
    }
   ],
   "source": [
    "tickers_list = ['DAI.DE', 'RACE', 'WGF1.F', 'RNL.DE', 'AML.L', 'STLA']\n",
    "data = yf.download(tickers_list, '2012-1-1', '2021-1-1')['Adj Close']"
   ]
  },
  {
   "cell_type": "code",
   "execution_count": 5,
   "metadata": {},
   "outputs": [],
   "source": [
    "data = data.reset_index()"
   ]
  },
  {
   "cell_type": "code",
   "execution_count": 6,
   "metadata": {},
   "outputs": [],
   "source": [
    "aml = data[['Date', 'AML.L']]"
   ]
  },
  {
   "cell_type": "code",
   "execution_count": 10,
   "metadata": {},
   "outputs": [
    {
     "data": {
      "text/plain": [
       "numpy.datetime64('2012-01-02T00:00:00.000000000')"
      ]
     },
     "execution_count": 10,
     "metadata": {},
     "output_type": "execute_result"
    }
   ],
   "source": [
    "aml['Date'].values[0]"
   ]
  },
  {
   "cell_type": "code",
   "execution_count": 13,
   "metadata": {},
   "outputs": [],
   "source": [
    "aml = aml.groupby(data.Date.dt.year)['Date'].transform('mean')\n"
   ]
  },
  {
   "cell_type": "code",
   "execution_count": 14,
   "metadata": {},
   "outputs": [
    {
     "data": {
      "text/plain": [
       "0      2012-06-30 20:28:43.552123648\n",
       "1      2012-06-30 20:28:43.552123648\n",
       "2      2012-06-30 20:28:43.552123648\n",
       "3      2012-06-30 20:28:43.552123648\n",
       "4      2012-06-30 20:28:43.552123648\n",
       "                    ...             \n",
       "2320   2020-07-02 01:01:09.498069504\n",
       "2321   2020-07-02 01:01:09.498069504\n",
       "2322   2020-07-02 01:01:09.498069504\n",
       "2323   2020-07-02 01:01:09.498069504\n",
       "2324   2020-07-02 01:01:09.498069504\n",
       "Name: Date, Length: 2325, dtype: datetime64[ns]"
      ]
     },
     "execution_count": 14,
     "metadata": {},
     "output_type": "execute_result"
    }
   ],
   "source": [
    "aml"
   ]
  },
  {
   "cell_type": "code",
   "execution_count": null,
   "metadata": {},
   "outputs": [],
   "source": []
  }
 ],
 "metadata": {
  "interpreter": {
   "hash": "d6709e1126abc17ab4496592348fc442ac7bbe2916862946e3d6434754acf018"
  },
  "kernelspec": {
   "display_name": "Python 3.9.1 64-bit ('.venv': venv)",
   "language": "python",
   "name": "python3"
  },
  "language_info": {
   "codemirror_mode": {
    "name": "ipython",
    "version": 3
   },
   "file_extension": ".py",
   "mimetype": "text/x-python",
   "name": "python",
   "nbconvert_exporter": "python",
   "pygments_lexer": "ipython3",
   "version": "3.9.1"
  },
  "orig_nbformat": 4
 },
 "nbformat": 4,
 "nbformat_minor": 2
}
