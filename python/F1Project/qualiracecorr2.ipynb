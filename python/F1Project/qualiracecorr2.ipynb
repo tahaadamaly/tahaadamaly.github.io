{
 "cells": [
  {
   "cell_type": "code",
   "execution_count": 1,
   "metadata": {},
   "outputs": [],
   "source": [
    "import pandas as pd\n",
    "import numpy as np\n",
    "import formula1 as f1"
   ]
  },
  {
   "cell_type": "code",
   "execution_count": 41,
   "metadata": {},
   "outputs": [],
   "source": [
    "master = pd.DataFrame()\n",
    "\n",
    "for n in range(1996, 2022):\n",
    "    temp = pd.DataFrame()\n",
    "    for i in range(1, 25):\n",
    "        try:\n",
    "            quali = f1.get_qualifying_result(n, i)\n",
    "            race = f1.get_race_result(n, i)\n",
    "            quali.rename(columns={'position': 'qualipos'}, inplace=True)\n",
    "            quali['race'] = i\n",
    "            quali = quali[['race', 'driverID', 'qualipos']]\n",
    "            quali = quali.sort_values('driverID')\n",
    "            quali = quali.set_index('driverID')\n",
    "            race['race'] = i\n",
    "            race.rename(columns={'position': 'racepos'}, inplace=True)\n",
    "            race = race[['race', 'driverID', 'racepos']]\n",
    "            race = race.sort_values('driverID')\n",
    "            race = race.set_index('driverID')\n",
    "            temp = temp.append(quali)\n",
    "            temp['racepos'] = race['racepos']\n",
    "        except IndexError:\n",
    "            break\n",
    "    master = master.append(temp)\n"
   ]
  },
  {
   "cell_type": "code",
   "execution_count": 42,
   "metadata": {},
   "outputs": [],
   "source": [
    "master = master.reset_index()\n",
    "\"\"\"master = master[master.driverID != 'mazepin']\n",
    "master = master[master.driverID != 'marques']\n",
    "master = master[master.driverID != 'larini']\n",
    "master = master[master.driverID != 'panis']\n",
    "master = master[master.driverID != 'morbidelli']\n",
    "master = master[master.driverID != 'wurz']\n",
    "master = master[master.driverID != 'grosjean']\n",
    "master = master[master.driverID != 'kubica']\"\"\"\n",
    "\n",
    "dropdfs = master[master['racepos'].isnull()]\n",
    "\n"
   ]
  },
  {
   "cell_type": "code",
   "execution_count": 53,
   "metadata": {},
   "outputs": [],
   "source": [
    "indexlist = dropdfs.index"
   ]
  },
  {
   "cell_type": "code",
   "execution_count": 56,
   "metadata": {},
   "outputs": [],
   "source": [
    "indexlistarray = np.array(indexlist)\n"
   ]
  },
  {
   "cell_type": "code",
   "execution_count": 58,
   "metadata": {},
   "outputs": [],
   "source": [
    "master.drop(indexlistarray, inplace=True)"
   ]
  },
  {
   "cell_type": "code",
   "execution_count": 68,
   "metadata": {},
   "outputs": [],
   "source": [
    "master2 = pd.DataFrame()\n",
    "master2['qualipos'] = master['qualipos'].astype(int)\n",
    "master2['racepos'] = master['racepos'].astype(int)"
   ]
  },
  {
   "cell_type": "code",
   "execution_count": 70,
   "metadata": {},
   "outputs": [],
   "source": [
    "master2 = master2[master2.qualipos <= 10]\n",
    "master2 = master2[master2.racepos <= 10]"
   ]
  },
  {
   "cell_type": "code",
   "execution_count": 85,
   "metadata": {},
   "outputs": [],
   "source": [
    "x = master['qualipos'].astype(int)\n",
    "y = master['racepos'].astype(int)"
   ]
  },
  {
   "cell_type": "code",
   "execution_count": 64,
   "metadata": {},
   "outputs": [],
   "source": [
    "import matplotlib.pyplot as plt\n",
    "from sklearn.linear_model import LinearRegression\n",
    "from sklearn.pipeline import make_pipeline\n",
    "from sklearn.preprocessing import PolynomialFeatures\n",
    "from scipy import stats\n",
    "from scipy.stats import linregress  "
   ]
  },
  {
   "cell_type": "code",
   "execution_count": 83,
   "metadata": {},
   "outputs": [
    {
     "name": "stdout",
     "output_type": "stream",
     "text": [
      "0.5373809872217583 5.083940997722036 0.5317539476535762 0.0 0.009803218179475714\n",
      "0.28\n"
     ]
    },
    {
     "name": "stderr",
     "output_type": "stream",
     "text": [
      "/var/folders/ry/nqgxl42n3vjg1sj6zlxsr0rr0000gn/T/ipykernel_2045/3536358846.py:2: FutureWarning: Support for multi-dimensional indexing (e.g. `obj[:, None]`) is deprecated and will be removed in a future version.  Convert to a numpy array before indexing instead.\n",
      "  poly_model.fit(x[:, np.newaxis], y)\n"
     ]
    },
    {
     "data": {
      "image/png": "[encoded data removed]",
      "text/plain": [
       "<Figure size 432x288 with 1 Axes>"
      ]
     },
     "metadata": {
      "needs_background": "light"
     },
     "output_type": "display_data"
    }
   ],
   "source": [
    "poly_model = make_pipeline(PolynomialFeatures(10), LinearRegression())\n",
    "poly_model.fit(x[:, np.newaxis], y)\n",
    "xfit = np.linspace(min(x), max(x), 2)\n",
    "yfit = poly_model.predict(xfit[:, np.newaxis])\n",
    "\n",
    "# Plotting data\n",
    "plt.scatter(x, y)\n",
    "plt.plot(xfit, yfit,color='crimson')\n",
    "plt.xlabel('Qualifying Position')\n",
    "plt.ylabel('Race Position')\n",
    "\n",
    "# Additional statistics\n",
    "slope, intercept, r_value, p_value, std_err = stats.linregress(x,y)\n",
    "r_squared=\"{:.2f}\".format(r_value**2)\n",
    "\n",
    "# Formatting\n",
    "plt.legend(('Best fit', 'R-squared={}'.format(r_squared)), fontsize=15, loc=\"upper left\", borderpad=0.4, edgecolor=\"black\")\n",
    "plt.title(\"The relationship between F1 qualifying and race outcome\", fontweight=\"bold\")\n",
    "\n",
    "print(slope, intercept, r_value, p_value, std_err)\n",
    "print(r_squared)"
   ]
  },
  {
   "cell_type": "code",
   "execution_count": 80,
   "metadata": {},
   "outputs": [],
   "source": [
    "master['qualipos'] = master['qualipos'].astype(int)\n",
    "master['racepos'] = master['racepos'].astype(int)\n"
   ]
  },
  {
   "cell_type": "code",
   "execution_count": 87,
   "metadata": {},
   "outputs": [],
   "source": [
    "master.to_csv('qualirace.csv')"
   ]
  },
  {
   "cell_type": "code",
   "execution_count": 86,
   "metadata": {},
   "outputs": [
    {
     "name": "stderr",
     "output_type": "stream",
     "text": [
      "/var/folders/ry/nqgxl42n3vjg1sj6zlxsr0rr0000gn/T/ipykernel_2045/796523177.py:3: FutureWarning: Support for multi-dimensional indexing (e.g. `obj[:, None]`) is deprecated and will be removed in a future version.  Convert to a numpy array before indexing instead.\n",
      "  poly_model.fit(x[:, np.newaxis], y)\n"
     ]
    },
    {
     "data": {
      "text/plain": [
       "Text(0, 0.5, 'Race')"
      ]
     },
     "execution_count": 86,
     "metadata": {},
     "output_type": "execute_result"
    },
    {
     "data": {
      "image/png": "[encoded data removed]",
      "text/plain": [
       "<Figure size 432x288 with 1 Axes>"
      ]
     },
     "metadata": {
      "needs_background": "light"
     },
     "output_type": "display_data"
    }
   ],
   "source": [
    "poly_model = make_pipeline(PolynomialFeatures(3),\n",
    "                           LinearRegression())\n",
    "poly_model.fit(x[:, np.newaxis], y)\n",
    "xfit = np.linspace(min(x), max(x), 1000)\n",
    "yfit = poly_model.predict(xfit[:, np.newaxis])\n",
    "\n",
    "plt.scatter(x, y)\n",
    "plt.plot(xfit, yfit,color='crimson')\n",
    "plt.xlabel('Qualifying')\n",
    "plt.ylabel('Race')"
   ]
  }
 ],
 "metadata": {
  "interpreter": {
   "hash": "d6709e1126abc17ab4496592348fc442ac7bbe2916862946e3d6434754acf018"
  },
  "kernelspec": {
   "display_name": "Python 3.9.1 64-bit ('.venv': venv)",
   "language": "python",
   "name": "python3"
  },
  "language_info": {
   "codemirror_mode": {
    "name": "ipython",
    "version": 3
   },
   "file_extension": ".py",
   "mimetype": "text/x-python",
   "name": "python",
   "nbconvert_exporter": "python",
   "pygments_lexer": "ipython3",
   "version": "3.9.1"
  },
  "orig_nbformat": 4
 },
 "nbformat": 4,
 "nbformat_minor": 2
}
