{
 "cells": [
  {
   "cell_type": "code",
   "execution_count": 1,
   "metadata": {},
   "outputs": [],
   "source": [
    "import pandas as pd\n",
    "import numpy as np\n",
    "import formula1 as f1"
   ]
  },
  {
   "cell_type": "code",
   "execution_count": 2,
   "metadata": {},
   "outputs": [],
   "source": [
    "df = f1.get_qualifying_result(2021, 1)"
   ]
  },
  {
   "cell_type": "code",
   "execution_count": 3,
   "metadata": {},
   "outputs": [],
   "source": [
    "stats_2021 = pd.DataFrame()\n",
    "for i in range(1, 23):\n",
    "    quali = f1.get_qualifying_result(2021, i)\n",
    "    race = f1.get_race_result(2021, i)\n",
    "    quali.rename(columns={'position': 'qualipos'}, inplace=True)\n",
    "    quali['race'] = i\n",
    "    quali = quali[['race', 'driverID', 'qualipos']]\n",
    "    quali = quali.sort_values('driverID')\n",
    "    quali = quali.set_index('driverID')\n",
    "\n",
    "\n",
    "    race['race'] = i\n",
    "    race.rename(columns={'position': 'racepos'}, inplace=True)\n",
    "    race = race[['race', 'driverID', 'racepos']]\n",
    "    race = race.sort_values('driverID')\n",
    "    race = race.set_index('driverID')\n",
    "\n",
    "    stats_2021 = stats_2021.append(quali)\n",
    "    stats_2021['racepos'] = race['racepos']"
   ]
  },
  {
   "cell_type": "code",
   "execution_count": 15,
   "metadata": {},
   "outputs": [],
   "source": [
    "\n",
    "stats_2021 = stats_2021.reset_index()\n",
    "stats_2021 = stats_2021[stats_2021.driverID != 'mazepin']\n",
    "stats_2021 = stats_2021[stats_2021.driverID != 'kubica']\n"
   ]
  },
  {
   "cell_type": "code",
   "execution_count": 5,
   "metadata": {},
   "outputs": [],
   "source": [
    "#stats_2021.to_csv('qualirace.csv')"
   ]
  },
  {
   "cell_type": "code",
   "execution_count": 16,
   "metadata": {},
   "outputs": [],
   "source": [
    "x = stats_2021['qualipos'].astype(int)\n",
    "y = stats_2021['racepos'].astype(int)"
   ]
  },
  {
   "cell_type": "code",
   "execution_count": 18,
   "metadata": {},
   "outputs": [],
   "source": [
    "from sklearn.linear_model import LinearRegression\n",
    "from scipy import stats\n",
    "from scipy.stats import linregress\n",
    "import matplotlib.pyplot as plt"
   ]
  },
  {
   "cell_type": "code",
   "execution_count": 19,
   "metadata": {},
   "outputs": [
    {
     "name": "stdout",
     "output_type": "stream",
     "text": [
      "0.5851791563068148 4.120577653349978 0.5875505473523627 7.030588609317929e-40 0.039656806137438404\n",
      "0.35\n"
     ]
    }
   ],
   "source": [
    "slope, intercept, r_value, p_value, std_err = stats.linregress(x,y)\n",
    "r_squared=\"{:.2f}\".format(r_value**2)\n",
    "print(slope, intercept, r_value, p_value, std_err)\n",
    "print(r_squared)"
   ]
  }
 ],
 "metadata": {
  "interpreter": {
   "hash": "d6709e1126abc17ab4496592348fc442ac7bbe2916862946e3d6434754acf018"
  },
  "kernelspec": {
   "display_name": "Python 3.9.1 64-bit ('.venv': venv)",
   "language": "python",
   "name": "python3"
  },
  "language_info": {
   "codemirror_mode": {
    "name": "ipython",
    "version": 3
   },
   "file_extension": ".py",
   "mimetype": "text/x-python",
   "name": "python",
   "nbconvert_exporter": "python",
   "pygments_lexer": "ipython3",
   "version": "3.9.1"
  },
  "orig_nbformat": 4
 },
 "nbformat": 4,
 "nbformat_minor": 2
}
