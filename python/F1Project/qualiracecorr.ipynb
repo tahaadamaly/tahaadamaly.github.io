{
 "cells": [
  {
   "cell_type": "markdown",
   "metadata": {},
   "source": [
    "This python script is used to get the qualifying and race position data from historical races for comparison in section 6, to see the impact of qualifying position on the final race outcome"
   ]
  },
  {
   "cell_type": "code",
   "execution_count": 2,
   "metadata": {},
   "outputs": [],
   "source": [
    "import pandas as pd\n",
    "import numpy as np\n",
    "import formula1 as f1"
   ]
  },
  {
   "cell_type": "code",
   "execution_count": 3,
   "metadata": {},
   "outputs": [],
   "source": [
    "master = pd.DataFrame()\n",
    "\n",
    "for n in range(1996, 2022):\n",
    "    temp = pd.DataFrame()\n",
    "    for i in range(1, 25):\n",
    "        try:\n",
    "            quali = f1.get_qualifying_result(n, i)\n",
    "            race = f1.get_race_result(n, i)\n",
    "            quali.rename(columns={'position': 'qualipos'}, inplace=True)\n",
    "            quali['race'] = i\n",
    "            quali = quali[['race', 'driverID', 'qualipos']]\n",
    "            quali = quali.sort_values('driverID')\n",
    "            quali = quali.set_index('driverID')\n",
    "            race['race'] = i\n",
    "            race.rename(columns={'position': 'racepos'}, inplace=True)\n",
    "            race = race[['race', 'driverID', 'racepos']]\n",
    "            race = race.sort_values('driverID')\n",
    "            race = race.set_index('driverID')\n",
    "            temp = temp.append(quali)\n",
    "            temp['racepos'] = race['racepos']\n",
    "        except IndexError:\n",
    "            break\n",
    "    master = master.append(temp)\n"
   ]
  },
  {
   "cell_type": "code",
   "execution_count": 4,
   "metadata": {},
   "outputs": [
    {
     "data": {
      "text/html": [
       "<div>\n",
       "<style scoped>\n",
       "    .dataframe tbody tr th:only-of-type {\n",
       "        vertical-align: middle;\n",
       "    }\n",
       "\n",
       "    .dataframe tbody tr th {\n",
       "        vertical-align: top;\n",
       "    }\n",
       "\n",
       "    .dataframe thead th {\n",
       "        text-align: right;\n",
       "    }\n",
       "</style>\n",
       "<table border=\"1\" class=\"dataframe\">\n",
       "  <thead>\n",
       "    <tr style=\"text-align: right;\">\n",
       "      <th></th>\n",
       "      <th>race</th>\n",
       "      <th>qualipos</th>\n",
       "      <th>racepos</th>\n",
       "    </tr>\n",
       "    <tr>\n",
       "      <th>driverID</th>\n",
       "      <th></th>\n",
       "      <th></th>\n",
       "      <th></th>\n",
       "    </tr>\n",
       "  </thead>\n",
       "  <tbody>\n",
       "    <tr>\n",
       "      <th>alguersuari</th>\n",
       "      <td>1</td>\n",
       "      <td>18</td>\n",
       "      <td>9</td>\n",
       "    </tr>\n",
       "    <tr>\n",
       "      <th>alonso</th>\n",
       "      <td>1</td>\n",
       "      <td>3</td>\n",
       "      <td>7</td>\n",
       "    </tr>\n",
       "    <tr>\n",
       "      <th>barrichello</th>\n",
       "      <td>1</td>\n",
       "      <td>11</td>\n",
       "      <td>12</td>\n",
       "    </tr>\n",
       "    <tr>\n",
       "      <th>bruno_senna</th>\n",
       "      <td>1</td>\n",
       "      <td>23</td>\n",
       "      <td>19</td>\n",
       "    </tr>\n",
       "    <tr>\n",
       "      <th>buemi</th>\n",
       "      <td>1</td>\n",
       "      <td>15</td>\n",
       "      <td>15</td>\n",
       "    </tr>\n",
       "    <tr>\n",
       "      <th>...</th>\n",
       "      <td>...</td>\n",
       "      <td>...</td>\n",
       "      <td>...</td>\n",
       "    </tr>\n",
       "    <tr>\n",
       "      <th>russell</th>\n",
       "      <td>22</td>\n",
       "      <td>17</td>\n",
       "      <td>18</td>\n",
       "    </tr>\n",
       "    <tr>\n",
       "      <th>sainz</th>\n",
       "      <td>22</td>\n",
       "      <td>5</td>\n",
       "      <td>3</td>\n",
       "    </tr>\n",
       "    <tr>\n",
       "      <th>stroll</th>\n",
       "      <td>22</td>\n",
       "      <td>13</td>\n",
       "      <td>13</td>\n",
       "    </tr>\n",
       "    <tr>\n",
       "      <th>tsunoda</th>\n",
       "      <td>22</td>\n",
       "      <td>8</td>\n",
       "      <td>4</td>\n",
       "    </tr>\n",
       "    <tr>\n",
       "      <th>vettel</th>\n",
       "      <td>22</td>\n",
       "      <td>15</td>\n",
       "      <td>11</td>\n",
       "    </tr>\n",
       "  </tbody>\n",
       "</table>\n",
       "<p>5053 rows × 3 columns</p>\n",
       "</div>"
      ],
      "text/plain": [
       "             race qualipos racepos\n",
       "driverID                          \n",
       "alguersuari     1       18       9\n",
       "alonso          1        3       7\n",
       "barrichello     1       11      12\n",
       "bruno_senna     1       23      19\n",
       "buemi           1       15      15\n",
       "...           ...      ...     ...\n",
       "russell        22       17      18\n",
       "sainz          22        5       3\n",
       "stroll         22       13      13\n",
       "tsunoda        22        8       4\n",
       "vettel         22       15      11\n",
       "\n",
       "[5053 rows x 3 columns]"
      ]
     },
     "execution_count": 4,
     "metadata": {},
     "output_type": "execute_result"
    }
   ],
   "source": [
    "master"
   ]
  },
  {
   "cell_type": "code",
   "execution_count": 5,
   "metadata": {},
   "outputs": [],
   "source": [
    "master = master.reset_index()\n",
    "\"\"\"master = master[master.driverID != 'mazepin']\n",
    "master = master[master.driverID != 'marques']\n",
    "master = master[master.driverID != 'larini']\n",
    "master = master[master.driverID != 'panis']\n",
    "master = master[master.driverID != 'morbidelli']\n",
    "master = master[master.driverID != 'wurz']\n",
    "master = master[master.driverID != 'grosjean']\n",
    "master = master[master.driverID != 'kubica']\"\"\"\n",
    "\n",
    "dropdfs = master[master['racepos'].isnull()]\n",
    "\n"
   ]
  },
  {
   "cell_type": "code",
   "execution_count": 6,
   "metadata": {},
   "outputs": [],
   "source": [
    "indexlist = dropdfs.index"
   ]
  },
  {
   "cell_type": "code",
   "execution_count": 7,
   "metadata": {},
   "outputs": [],
   "source": [
    "indexlistarray = np.array(indexlist)\n"
   ]
  },
  {
   "cell_type": "code",
   "execution_count": 8,
   "metadata": {},
   "outputs": [],
   "source": [
    "master.drop(indexlistarray, inplace=True)"
   ]
  },
  {
   "cell_type": "code",
   "execution_count": 15,
   "metadata": {},
   "outputs": [],
   "source": [
    "master2 = pd.DataFrame()\n",
    "master2['qualipos'] = master['qualipos'].astype(int)\n",
    "master2['racepos'] = master['racepos'].astype(int)"
   ]
  },
  {
   "cell_type": "code",
   "execution_count": 18,
   "metadata": {},
   "outputs": [],
   "source": [
    "master2 = master2[master2.qualipos <= 10]\n",
    "master2 = master2[master2.racepos <= 10]\n"
   ]
  },
  {
   "cell_type": "code",
   "execution_count": 17,
   "metadata": {},
   "outputs": [],
   "source": [
    "#master.to_csv('qualiracecorr.csv')"
   ]
  },
  {
   "cell_type": "code",
   "execution_count": 19,
   "metadata": {},
   "outputs": [],
   "source": [
    "x = master['qualipos'].astype(int)\n",
    "y = master['racepos'].astype(int)"
   ]
  },
  {
   "cell_type": "code",
   "execution_count": 12,
   "metadata": {},
   "outputs": [],
   "source": [
    "import matplotlib.pyplot as plt\n",
    "from sklearn.linear_model import LinearRegression\n",
    "from sklearn.pipeline import make_pipeline\n",
    "from sklearn.preprocessing import PolynomialFeatures\n",
    "from scipy import stats\n",
    "from scipy.stats import linregress  "
   ]
  },
  {
   "cell_type": "code",
   "execution_count": 20,
   "metadata": {},
   "outputs": [
    {
     "name": "stderr",
     "output_type": "stream",
     "text": [
      "/var/folders/ry/nqgxl42n3vjg1sj6zlxsr0rr0000gn/T/ipykernel_5603/3536358846.py:2: FutureWarning: Support for multi-dimensional indexing (e.g. `obj[:, None]`) is deprecated and will be removed in a future version.  Convert to a numpy array before indexing instead.\n",
      "  poly_model.fit(x[:, np.newaxis], y)\n"
     ]
    },
    {
     "name": "stdout",
     "output_type": "stream",
     "text": [
      "0.5932336302106936 4.4962097351552766 0.5860820933556453 0.0 0.011792318629170422\n",
      "0.34\n"
     ]
    },
    {
     "data": {
      "image/png": "[encoded data removed]",
      "text/plain": [
       "<Figure size 432x288 with 1 Axes>"
      ]
     },
     "metadata": {
      "needs_background": "light"
     },
     "output_type": "display_data"
    }
   ],
   "source": [
    "poly_model = make_pipeline(PolynomialFeatures(10), LinearRegression())\n",
    "poly_model.fit(x[:, np.newaxis], y)\n",
    "xfit = np.linspace(min(x), max(x), 2)\n",
    "yfit = poly_model.predict(xfit[:, np.newaxis])\n",
    "\n",
    "# Plotting data\n",
    "plt.scatter(x, y)\n",
    "plt.plot(xfit, yfit,color='crimson')\n",
    "plt.xlabel('Qualifying Position')\n",
    "plt.ylabel('Race Position')\n",
    "\n",
    "# Additional statistics\n",
    "slope, intercept, r_value, p_value, std_err = stats.linregress(x,y)\n",
    "r_squared=\"{:.2f}\".format(r_value**2)\n",
    "\n",
    "# Formatting\n",
    "plt.legend(('Best fit', 'R-squared={}'.format(r_squared)), fontsize=15, loc=\"upper left\", borderpad=0.4, edgecolor=\"black\")\n",
    "plt.title(\"The relationship between F1 qualifying and race outcome\", fontweight=\"bold\")\n",
    "\n",
    "print(slope, intercept, r_value, p_value, std_err)\n",
    "print(r_squared)"
   ]
  },
  {
   "cell_type": "code",
   "execution_count": 80,
   "metadata": {},
   "outputs": [],
   "source": [
    "master['qualipos'] = master['qualipos'].astype(int)\n",
    "master['racepos'] = master['racepos'].astype(int)\n"
   ]
  },
  {
   "cell_type": "code",
   "execution_count": 87,
   "metadata": {},
   "outputs": [],
   "source": [
    "master.to_csv('qualirace.csv')"
   ]
  },
  {
   "cell_type": "code",
   "execution_count": 21,
   "metadata": {},
   "outputs": [
    {
     "name": "stderr",
     "output_type": "stream",
     "text": [
      "/var/folders/ry/nqgxl42n3vjg1sj6zlxsr0rr0000gn/T/ipykernel_5603/796523177.py:3: FutureWarning: Support for multi-dimensional indexing (e.g. `obj[:, None]`) is deprecated and will be removed in a future version.  Convert to a numpy array before indexing instead.\n",
      "  poly_model.fit(x[:, np.newaxis], y)\n"
     ]
    },
    {
     "data": {
      "text/plain": [
       "Text(0, 0.5, 'Race')"
      ]
     },
     "execution_count": 21,
     "metadata": {},
     "output_type": "execute_result"
    },
    {
     "data": {
      "image/png": "[encoded data removed]",
      "text/plain": [
       "<Figure size 432x288 with 1 Axes>"
      ]
     },
     "metadata": {
      "needs_background": "light"
     },
     "output_type": "display_data"
    }
   ],
   "source": [
    "poly_model = make_pipeline(PolynomialFeatures(3),\n",
    "                           LinearRegression())\n",
    "poly_model.fit(x[:, np.newaxis], y)\n",
    "xfit = np.linspace(min(x), max(x), 1000)\n",
    "yfit = poly_model.predict(xfit[:, np.newaxis])\n",
    "\n",
    "plt.scatter(x, y)\n",
    "plt.plot(xfit, yfit,color='crimson')\n",
    "plt.xlabel('Qualifying')\n",
    "plt.ylabel('Race')"
   ]
  }
 ],
 "metadata": {
  "interpreter": {
   "hash": "d6709e1126abc17ab4496592348fc442ac7bbe2916862946e3d6434754acf018"
  },
  "kernelspec": {
   "display_name": "Python 3.9.1 64-bit ('.venv': venv)",
   "language": "python",
   "name": "python3"
  },
  "language_info": {
   "codemirror_mode": {
    "name": "ipython",
    "version": 3
   },
   "file_extension": ".py",
   "mimetype": "text/x-python",
   "name": "python",
   "nbconvert_exporter": "python",
   "pygments_lexer": "ipython3",
   "version": "3.9.1"
  },
  "orig_nbformat": 4
 },
 "nbformat": 4,
 "nbformat_minor": 2
}
