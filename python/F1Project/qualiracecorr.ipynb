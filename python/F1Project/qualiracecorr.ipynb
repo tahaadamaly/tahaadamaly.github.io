{
 "cells": [
  {
   "cell_type": "code",
   "execution_count": 1,
   "metadata": {},
   "outputs": [],
   "source": [
    "import pandas as pd\n",
    "import numpy as np\n",
    "import formula1 as f1"
   ]
  },
  {
   "cell_type": "code",
   "execution_count": 2,
   "metadata": {},
   "outputs": [],
   "source": [
    "df = f1.get_qualifying_result(2021, 1)"
   ]
  },
  {
   "cell_type": "code",
   "execution_count": 20,
   "metadata": {},
   "outputs": [],
   "source": [
    "stats_2021 = pd.DataFrame()\n",
    "for i in range(1, 23):\n",
    "    quali = f1.get_qualifying_result(2021, i)\n",
    "    race = f1.get_race_result(2021, i)\n",
    "    quali.rename(columns={'position': 'qualipos'}, inplace=True)\n",
    "    quali['race'] = i\n",
    "    quali = quali[['race', 'driverID', 'qualipos']]\n",
    "    quali = quali.sort_values('driverID')\n",
    "    quali = quali.set_index('driverID')\n",
    "\n",
    "\n",
    "    race['race'] = i\n",
    "    race.rename(columns={'position': 'racepos'}, inplace=True)\n",
    "    race = race[['race', 'driverID', 'racepos']]\n",
    "    race = race.sort_values('driverID')\n",
    "    race = race.set_index('driverID')\n",
    "\n",
    "    stats_2021 = stats_2021.append(quali)\n",
    "    stats_2021['racepos'] = race['racepos']"
   ]
  },
  {
   "cell_type": "code",
   "execution_count": 23,
   "metadata": {},
   "outputs": [],
   "source": [
    "\n",
    "stats_2021 = stats_2021.reset_index()\n",
    "stats_2021 = stats_2021[stats_2021.driverID != 'mazepin']\n",
    "stats_2021 = stats_2021[stats_2021.driverID != 'kubica']\n",
    "stats_2021['year'] = 2021\n"
   ]
  },
  {
   "cell_type": "code",
   "execution_count": 27,
   "metadata": {},
   "outputs": [],
   "source": [
    "stats_2020 = pd.DataFrame()\n",
    "for i in range(1, 18):\n",
    "    quali = f1.get_qualifying_result(2020, i)\n",
    "    race = f1.get_race_result(2020, i)\n",
    "    quali.rename(columns={'position': 'qualipos'}, inplace=True)\n",
    "    quali['race'] = i\n",
    "    quali = quali[['race', 'driverID', 'qualipos']]\n",
    "    quali = quali.sort_values('driverID')\n",
    "    quali = quali.set_index('driverID')\n",
    "\n",
    "\n",
    "    race['race'] = i\n",
    "    race.rename(columns={'position': 'racepos'}, inplace=True)\n",
    "    race = race[['race', 'driverID', 'racepos']]\n",
    "    race = race.sort_values('driverID')\n",
    "    race = race.set_index('driverID')\n",
    "\n",
    "    stats_2020 = stats_2020.append(quali)\n",
    "    stats_2020['racepos'] = race['racepos']\n",
    "\n",
    "stats_2020 = stats_2020.reset_index()\n",
    "stats_2020 = stats_2020[stats_2020.driverID != 'mazepin']\n",
    "stats_2020 = stats_2020[stats_2020.driverID != 'kubica']\n",
    "stats_2020['year'] = 2020\n"
   ]
  },
  {
   "cell_type": "code",
   "execution_count": 29,
   "metadata": {},
   "outputs": [],
   "source": [
    "stats_2019 = pd.DataFrame()\n",
    "for i in range(1, 22):\n",
    "    quali = f1.get_qualifying_result(2019, i)\n",
    "    race = f1.get_race_result(2019, i)\n",
    "    quali.rename(columns={'position': 'qualipos'}, inplace=True)\n",
    "    quali['race'] = i\n",
    "    quali = quali[['race', 'driverID', 'qualipos']]\n",
    "    quali = quali.sort_values('driverID')\n",
    "    quali = quali.set_index('driverID')\n",
    "\n",
    "\n",
    "    race['race'] = i\n",
    "    race.rename(columns={'position': 'racepos'}, inplace=True)\n",
    "    race = race[['race', 'driverID', 'racepos']]\n",
    "    race = race.sort_values('driverID')\n",
    "    race = race.set_index('driverID')\n",
    "\n",
    "    stats_2019 = stats_2019.append(quali)\n",
    "    stats_2019['racepos'] = race['racepos']\n",
    "\n",
    "stats_2019 = stats_2019.reset_index()\n",
    "stats_2019 = stats_2019[stats_2019.driverID != 'mazepin']\n",
    "stats_2019 = stats_2019[stats_2019.driverID != 'kubica']\n",
    "stats_2019['year'] = 2019"
   ]
  },
  {
   "cell_type": "code",
   "execution_count": 31,
   "metadata": {},
   "outputs": [],
   "source": [
    "stats_2018 = pd.DataFrame()\n",
    "for i in range(1, 22):\n",
    "    quali = f1.get_qualifying_result(2019, i)\n",
    "    race = f1.get_race_result(2019, i)\n",
    "    quali.rename(columns={'position': 'qualipos'}, inplace=True)\n",
    "    quali['race'] = i\n",
    "    quali = quali[['race', 'driverID', 'qualipos']]\n",
    "    quali = quali.sort_values('driverID')\n",
    "    quali = quali.set_index('driverID')\n",
    "\n",
    "\n",
    "    race['race'] = i\n",
    "    race.rename(columns={'position': 'racepos'}, inplace=True)\n",
    "    race = race[['race', 'driverID', 'racepos']]\n",
    "    race = race.sort_values('driverID')\n",
    "    race = race.set_index('driverID')\n",
    "\n",
    "    stats_2018 = stats_2018.append(quali)\n",
    "    stats_2018['racepos'] = race['racepos']\n",
    "\n",
    "stats_2018 = stats_2018.reset_index()\n",
    "stats_2018 = stats_2018[stats_2018.driverID != 'mazepin']\n",
    "stats_2018 = stats_2018[stats_2018.driverID != 'kubica']\n",
    "stats_2018['year'] = 2018"
   ]
  },
  {
   "cell_type": "code",
   "execution_count": 35,
   "metadata": {},
   "outputs": [],
   "source": [
    "master = pd.concat([stats_2018, stats_2019, stats_2020, stats_2021], ignore_index=True)"
   ]
  },
  {
   "cell_type": "code",
   "execution_count": 41,
   "metadata": {},
   "outputs": [
    {
     "name": "stdout",
     "output_type": "stream",
     "text": [
      "Empty DataFrame\n",
      "Columns: [driverID, race, qualipos, racepos, year, index]\n",
      "Index: []\n"
     ]
    }
   ],
   "source": [
    "master = master[master.driverID != 'grosjean']\n",
    "master = master[master.driverID != 'hulkenberg']\n",
    "master = master[master.driverID != 'aitken']\n",
    "print(master[master['qualipos'].isnull()])"
   ]
  },
  {
   "cell_type": "code",
   "execution_count": 45,
   "metadata": {},
   "outputs": [],
   "source": [
    "master.to_csv('qualirace.csv')"
   ]
  },
  {
   "cell_type": "code",
   "execution_count": 42,
   "metadata": {},
   "outputs": [],
   "source": [
    "x = master['qualipos'].astype(int)\n",
    "y = master['racepos'].astype(int)"
   ]
  },
  {
   "cell_type": "code",
   "execution_count": 46,
   "metadata": {},
   "outputs": [],
   "source": [
    "import matplotlib.pyplot as plt\n",
    "from sklearn.linear_model import LinearRegression\n",
    "from sklearn.pipeline import make_pipeline\n",
    "from sklearn.preprocessing import PolynomialFeatures\n",
    "from scipy import stats\n",
    "from scipy.stats import linregress\n"
   ]
  },
  {
   "cell_type": "code",
   "execution_count": 47,
   "metadata": {},
   "outputs": [
    {
     "name": "stdout",
     "output_type": "stream",
     "text": [
      "0.637871131869857 3.4923315259582868 0.6370750599910425 1.8311134476203575e-165 0.020309603756044087\n",
      "0.41\n"
     ]
    },
    {
     "name": "stderr",
     "output_type": "stream",
     "text": [
      "/var/folders/ry/nqgxl42n3vjg1sj6zlxsr0rr0000gn/T/ipykernel_1439/3578360429.py:2: FutureWarning: Support for multi-dimensional indexing (e.g. `obj[:, None]`) is deprecated and will be removed in a future version.  Convert to a numpy array before indexing instead.\n",
      "  poly_model.fit(x[:, np.newaxis], y)\n"
     ]
    },
    {
     "data": {
      "image/png": "[encoded data removed]",
      "text/plain": [
       "<Figure size 432x288 with 1 Axes>"
      ]
     },
     "metadata": {
      "needs_background": "light"
     },
     "output_type": "display_data"
    }
   ],
   "source": [
    "poly_model = make_pipeline(PolynomialFeatures(3), LinearRegression())\n",
    "poly_model.fit(x[:, np.newaxis], y)\n",
    "xfit = np.linspace(min(x), max(x), 2)\n",
    "yfit = poly_model.predict(xfit[:, np.newaxis])\n",
    "\n",
    "# Plotting data\n",
    "plt.scatter(x, y)\n",
    "plt.plot(xfit, yfit,color='crimson')\n",
    "plt.xlabel('Qualifying Position')\n",
    "plt.ylabel('Race Position')\n",
    "\n",
    "# Additional statistics\n",
    "slope, intercept, r_value, p_value, std_err = stats.linregress(x,y)\n",
    "r_squared=\"{:.2f}\".format(r_value**2)\n",
    "\n",
    "# Formatting\n",
    "plt.legend(('Best fit', 'R-squared={}'.format(r_squared)), fontsize=15, loc=\"upper left\", borderpad=0.4, edgecolor=\"black\")\n",
    "plt.title(\"The relationship between F1 qualifying and race outcome\", fontweight=\"bold\")\n",
    "\n",
    "print(slope, intercept, r_value, p_value, std_err)\n",
    "print(r_squared)"
   ]
  }
 ],
 "metadata": {
  "interpreter": {
   "hash": "d6709e1126abc17ab4496592348fc442ac7bbe2916862946e3d6434754acf018"
  },
  "kernelspec": {
   "display_name": "Python 3.9.1 64-bit ('.venv': venv)",
   "language": "python",
   "name": "python3"
  },
  "language_info": {
   "codemirror_mode": {
    "name": "ipython",
    "version": 3
   },
   "file_extension": ".py",
   "mimetype": "text/x-python",
   "name": "python",
   "nbconvert_exporter": "python",
   "pygments_lexer": "ipython3",
   "version": "3.9.1"
  },
  "orig_nbformat": 4
 },
 "nbformat": 4,
 "nbformat_minor": 2
}
