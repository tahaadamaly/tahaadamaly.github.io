{
 "cells": [
  {
   "cell_type": "code",
   "execution_count": 1,
   "metadata": {},
   "outputs": [],
   "source": [
    "import pandas as pd\n",
    "import numpy as np\n",
    "import formula1 as f1"
   ]
  },
  {
   "cell_type": "code",
   "execution_count": 3,
   "metadata": {},
   "outputs": [],
   "source": [
    "df = f1.get_qualifying_result(2021, 1)"
   ]
  },
  {
   "cell_type": "code",
   "execution_count": 83,
   "metadata": {},
   "outputs": [],
   "source": [
    "master = pd.DataFrame()\n",
    "for i in range(1, 23):\n",
    "    quali = f1.get_qualifying_result(2021, i)\n",
    "    race = f1.get_race_result(2021, i)\n",
    "    quali.rename(columns={'position': 'qualipos'}, inplace=True)\n",
    "    quali['race'] = i\n",
    "    quali = quali[['race', 'driverID', 'qualipos']]\n",
    "    quali = quali.sort_values('driverID')\n",
    "    quali = quali.set_index('driverID')\n",
    "\n",
    "\n",
    "    race['race'] = i\n",
    "    race.rename(columns={'position': 'racepos'}, inplace=True)\n",
    "    race = race[['race', 'driverID', 'racepos']]\n",
    "    race = race.sort_values('driverID')\n",
    "    race = race.set_index('driverID')\n",
    "\n",
    "    master = master.append(quali)\n",
    "    master['racepos'] = race['racepos']"
   ]
  },
  {
   "cell_type": "code",
   "execution_count": 95,
   "metadata": {},
   "outputs": [
    {
     "name": "stdout",
     "output_type": "stream",
     "text": [
      "            race qualipos racepos\n",
      "driverID                         \n",
      "alonso         1        9       8\n",
      "bottas         1        3       6\n",
      "gasly          1        5       5\n",
      "giovinazzi     1       12      17\n",
      "hamilton       1        2       2\n",
      "...          ...      ...     ...\n",
      "sainz         20        7       3\n",
      "stroll        20       12      13\n",
      "tsunoda       20        8       4\n",
      "vettel        20       10      11\n",
      "alonso        21       13       8\n",
      "\n",
      "[400 rows x 3 columns]\n"
     ]
    }
   ],
   "source": [
    "x = master['qualipos'].values\n",
    "y = master['racepos'].values\n",
    "master.to_excel('tempfile.xlsx')"
   ]
  },
  {
   "cell_type": "code",
   "execution_count": 90,
   "metadata": {},
   "outputs": [],
   "source": [
    "import matplotlib.pyplot as plt\n",
    "from sklearn.linear_model import LinearRegression\n",
    "from sklearn.pipeline import make_pipeline\n",
    "from sklearn.preprocessing import PolynomialFeatures\n",
    "from  scipy import stats\n",
    "from scipy.stats import linregress"
   ]
  },
  {
   "cell_type": "code",
   "execution_count": 93,
   "metadata": {},
   "outputs": [
    {
     "name": "stdout",
     "output_type": "stream",
     "text": [
      "['8' '6' '5' '17' '2' '16' '10' '1' nan '14' '7' '9' '15' '19' '12' '18'\n",
      " '3' '13' '4' '11' '8' '6' '5' '17' '2' '16' '10' '1' nan '14' '7' '9'\n",
      " '15' '19' '12' '18' '3' '13' '4' '11' '8' '6' '5' '17' '2' '16' '10' '1'\n",
      " nan '14' '7' '9' '15' '19' '12' '18' '3' '13' '4' '11' '8' '6' '5' '17'\n",
      " '2' '16' '10' '1' nan '14' '7' '9' '15' '19' '12' '18' '3' '13' '4' '11'\n",
      " '8' '6' '5' '17' '2' '16' '10' '1' nan '7' '9' '15' '19' '12' '18' '3'\n",
      " '13' '4' '11' '8' '6' '5' '17' '2' '16' '10' '1' nan '14' '7' '9' '15'\n",
      " '19' '12' '18' '3' '13' '4' '11' '8' '6' '5' '17' '2' '16' '10' '1' nan\n",
      " '14' '7' '9' '15' '19' '12' '18' '3' '13' '4' '11' '8' '6' '5' '17' '2'\n",
      " '16' '10' '1' nan '14' '7' '9' '15' '19' '12' '18' '3' '13' '4' '11' '8'\n",
      " '6' '5' '17' '2' '16' '10' '1' nan '14' '7' '9' '15' '19' '12' '18' '3'\n",
      " '13' '4' '11' '8' '6' '5' '17' '2' '16' '10' '1' nan '14' '7' '9' '15'\n",
      " '19' '12' '18' '3' '13' '4' '11' '8' '6' '5' '17' '2' '16' '10' '1' nan\n",
      " '14' '7' '9' '15' '19' '12' '18' '3' '13' '4' '11' '8' '6' '5' '17' '2'\n",
      " '16' '10' '1' nan '14' '7' '9' '15' '19' '12' '18' '3' '13' '4' '11' '8'\n",
      " '6' '5' '17' '2' nan '16' '10' '1' nan '14' '7' '9' '15' '12' '18' '3'\n",
      " '13' '4' '11' '8' '6' '5' '17' '2' nan '16' '10' '1' nan '14' '7' '9'\n",
      " '15' '12' '18' '3' '13' '4' '11' '8' '6' '5' '17' '2' '16' '10' '1' nan\n",
      " '14' '7' '9' '15' '19' '12' '18' '3' '13' '4' '11' '8' '6' '5' '17' '2'\n",
      " '16' '10' '1' nan '14' '7' '9' '15' '19' '12' '18' '3' '13' '4' '11' '8'\n",
      " '6' '5' '17' '2' '16' '10' '1' nan '14' '7' '9' '15' '19' '12' '18' '3'\n",
      " '13' '4' '11' '8' '6' '5' '17' '2' '16' '10' '1' nan '14' '7' '9' '15'\n",
      " '19' '12' '18' '3' '13' '4' '11' '8' '6' '5' '17' '2' '16' '10' '1' nan\n",
      " '14' '7' '9' '15' '19' '12' '18' '3' '13' '4' '11' '8' '6' '5' '17' '2'\n",
      " '16' '10' '1' nan '14' '7' '9' '15' '19' '12' '18' '3' '13' '4' '11' '8'\n",
      " '6' '5' '17' '2' '16' '10' '1' nan '14' '7' '9' '15' '19' '12' '18' '3'\n",
      " '13' '4' '11' '8' '6' '5' '17' '2' '16' '10' '1' nan '14' '7' '9' '15'\n",
      " '19' '12' '18' '3' '13' '4' '11']\n"
     ]
    }
   ],
   "source": [
    "print(y)"
   ]
  },
  {
   "cell_type": "code",
   "execution_count": null,
   "metadata": {},
   "outputs": [],
   "source": [
    "poly_model = make_pipeline(PolynomialFeatures(1), LinearRegression())\n",
    "poly_model.fit(x[:, np.newaxis], y)\n",
    "xfit = np.linspace(min(x), max(x), 2)\n",
    "yfit = poly_model.predict(xfit[:, np.newaxis])\n",
    "slope, intercept, r_value, p_value, std_err = stats.linregress(x,y)\n",
    "r_squared=\"{:.2f}\".format(r_value**2)\n",
    "print(slope, intercept, r_value, p_value, std_err)\n",
    "print(r_squared)\n",
    "plt.legend(('Best fit', 'R-squared={}'.format(r_squared)), fontsize=15, loc=\"upper left\", borderpad=0.4, edgecolor=\"black\")\n",
    "plt.title(\"Correlation between qualifying position and race result\", fontweight=\"bold\")\n",
    "# Plotting data\n",
    "plt.scatter(x, y)\n",
    "plt.plot(xfit, yfit,color='crimson')\n",
    "plt.xlabel('R&D')\n",
    "plt.ylabel('Points')\n",
    "plt.show()"
   ]
  }
 ],
 "metadata": {
  "interpreter": {
   "hash": "d6709e1126abc17ab4496592348fc442ac7bbe2916862946e3d6434754acf018"
  },
  "kernelspec": {
   "display_name": "Python 3.9.1 64-bit ('.venv': venv)",
   "language": "python",
   "name": "python3"
  },
  "language_info": {
   "codemirror_mode": {
    "name": "ipython",
    "version": 3
   },
   "file_extension": ".py",
   "mimetype": "text/x-python",
   "name": "python",
   "nbconvert_exporter": "python",
   "pygments_lexer": "ipython3",
   "version": "3.9.1"
  },
  "orig_nbformat": 4
 },
 "nbformat": 4,
 "nbformat_minor": 2
}
