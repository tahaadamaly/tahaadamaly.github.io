{
 "cells": [
  {
   "cell_type": "markdown",
   "metadata": {},
   "source": [
    "This python script is used to get the qualifying and race position data from historical races for comparison in section 6, to see the impact of qualifying position on the final race outcome"
   ]
  },
  {
   "cell_type": "code",
   "execution_count": 2,
   "metadata": {},
   "outputs": [],
   "source": [
    "import pandas as pd\n",
    "import numpy as np\n",
    "import formula1 as f1"
   ]
  },
  {
   "cell_type": "code",
   "execution_count": 3,
   "metadata": {},
   "outputs": [],
   "source": [
    "master = pd.DataFrame()\n",
    "# Loop setting the year\n",
    "for n in range(1996, 2022):\n",
    "    temp = pd.DataFrame()\n",
    "    # Second loop selecting the race\n",
    "    for i in range(1, 25):\n",
    "        try:\n",
    "            quali = f1.get_qualifying_result(n, i)\n",
    "            race = f1.get_race_result(n, i)\n",
    "            quali.rename(columns={'position': 'qualipos'}, inplace=True)\n",
    "            quali['race'] = i\n",
    "            quali = quali[['race', 'driverID', 'qualipos']]\n",
    "            quali = quali.sort_values('driverID')\n",
    "            quali = quali.set_index('driverID')\n",
    "            race['race'] = i\n",
    "            race.rename(columns={'position': 'racepos'}, inplace=True)\n",
    "            race = race[['race', 'driverID', 'racepos']]\n",
    "            race = race.sort_values('driverID')\n",
    "            race = race.set_index('driverID')\n",
    "            temp = temp.append(quali)\n",
    "            temp['racepos'] = race['racepos']\n",
    "        except IndexError:\n",
    "            break\n",
    "        # Error handling was used as number of races varied each year, so IndexErrors occurred if a value of a race greater than the total number of races that year was passed\n",
    "        # This script breaks out of the second loop which selects the race as soon as there is an index error, so it obtains data for all races in a year (there are no years with more than 25 races)\n",
    "    master = master.append(temp)\n"
   ]
  },
  {
   "cell_type": "code",
   "execution_count": 5,
   "metadata": {},
   "outputs": [],
   "source": [
    "# Some drivers had NaN values for their finishing positon (didnt finish race). These values were removed below\n",
    "\n",
    "master = master.reset_index()\n",
    "dropdfs = master[master['racepos'].isnull()]\n",
    "indexlist = dropdfs.index\n",
    "indexlistarray = np.array(indexlist)\n",
    "master.drop(indexlistarray, inplace=True)"
   ]
  },
  {
   "cell_type": "code",
   "execution_count": 17,
   "metadata": {},
   "outputs": [],
   "source": [
    "master.to_csv('qualiracecorr.csv')"
   ]
  }
 ],
 "metadata": {
  "interpreter": {
   "hash": "d6709e1126abc17ab4496592348fc442ac7bbe2916862946e3d6434754acf018"
  },
  "kernelspec": {
   "display_name": "Python 3.9.1 64-bit ('.venv': venv)",
   "language": "python",
   "name": "python3"
  },
  "language_info": {
   "codemirror_mode": {
    "name": "ipython",
    "version": 3
   },
   "file_extension": ".py",
   "mimetype": "text/x-python",
   "name": "python",
   "nbconvert_exporter": "python",
   "pygments_lexer": "ipython3",
   "version": "3.9.1"
  },
  "orig_nbformat": 4
 },
 "nbformat": 4,
 "nbformat_minor": 2
}
